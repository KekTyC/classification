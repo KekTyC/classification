{
 "cells": [
  {
   "cell_type": "markdown",
   "metadata": {},
   "source": [
    "# Задание 1"
   ]
  },
  {
   "cell_type": "code",
   "execution_count": 56,
   "metadata": {},
   "outputs": [],
   "source": [
    "def foldl(f, x0, lst):\n",
    "    if not lst:\n",
    "        return x0\n",
    "    return foldl(f, f(x0, lst[0]), lst[1:])\n",
    "\n",
    "def foldr(f, x0, lst):\n",
    "    if not lst:\n",
    "        return x0\n",
    "    return f(lst[0], foldr(f, x0, lst[1:]))"
   ]
  },
  {
   "cell_type": "code",
   "execution_count": 57,
   "metadata": {},
   "outputs": [
    {
     "data": {
      "text/plain": [
       "6"
      ]
     },
     "execution_count": 57,
     "metadata": {},
     "output_type": "execute_result"
    }
   ],
   "source": [
    "#сумма\n",
    "foldl(lambda x, y: x + y, 0, [1, 2, 3])"
   ]
  },
  {
   "cell_type": "code",
   "execution_count": 58,
   "metadata": {},
   "outputs": [
    {
     "data": {
      "text/plain": [
       "'123'"
      ]
     },
     "execution_count": 58,
     "metadata": {},
     "output_type": "execute_result"
    }
   ],
   "source": [
    "#конкатенация\n",
    "foldl(lambda x, y: '{}{}'.format(x, y), '', [1, 2, 3])"
   ]
  },
  {
   "cell_type": "code",
   "execution_count": 68,
   "metadata": {},
   "outputs": [
    {
     "data": {
      "text/plain": [
       "(0.16666666666666666, 1.5)"
      ]
     },
     "execution_count": 68,
     "metadata": {},
     "output_type": "execute_result"
    }
   ],
   "source": [
    "f = lambda x, y: x / y\n",
    "foldl(f, 1, [1, 2, 3]), \\\n",
    "foldr(f, 1, [1, 2, 3])"
   ]
  },
  {
   "cell_type": "code",
   "execution_count": 69,
   "metadata": {},
   "outputs": [],
   "source": [
    "def foldl2(f, x0, lst):\n",
    "    return foldr(lambda x, g: lambda y: g(f(y, x)), lambda x: x, lst)(x0)"
   ]
  },
  {
   "cell_type": "code",
   "execution_count": 70,
   "metadata": {},
   "outputs": [],
   "source": [
    "def foldr2(f, x0, lst):\n",
    "    return foldl(lambda g, x: lambda y: g(f(x, y)), lambda x: x, lst)(x0)"
   ]
  },
  {
   "cell_type": "markdown",
   "metadata": {},
   "source": [
    "# Задание 2\n",
    "O(n*m^2)"
   ]
  },
  {
   "cell_type": "code",
   "execution_count": 62,
   "metadata": {
    "jupyter": {
     "outputs_hidden": true
    }
   },
   "outputs": [
    {
     "data": {
      "text/plain": [
       "'String a does not contain any permutation of string b'"
      ]
     },
     "execution_count": 62,
     "metadata": {},
     "output_type": "execute_result"
    }
   ],
   "source": [
    "def check_inv(a, b):\n",
    "    su = 0\n",
    "    dic = dict()\n",
    "    for el in b:\n",
    "        if el in dic.keys():\n",
    "            dic[el] += 1\n",
    "            su += 1\n",
    "        else:\n",
    "            dic[el] = 1\n",
    "            su += 1\n",
    "    s = su\n",
    "    for el in a:\n",
    "        if el in dic.keys():\n",
    "            dic[el] -= 1\n",
    "            s -= 1\n",
    "            if(s <= 0):\n",
    "                return 'String a contains permutation of string b'\n",
    "        else:\n",
    "            s = su\n",
    "    return 'String a does not contain any permutation of string b'\n",
    "check_inv('abctrom', 'cro')"
   ]
  },
  {
   "cell_type": "markdown",
   "metadata": {},
   "source": [
    "# Задание 3\n",
    "\n",
    "Реализовать бинарное дерево (класс Tree), в нём методы __repr__, __str__, __iter__ (итерация только по листьям)."
   ]
  },
  {
   "cell_type": "code",
   "execution_count": 63,
   "metadata": {},
   "outputs": [
    {
     "data": {
      "text/plain": [
       "[Tree(0, Tree(1, Tree(3), Tree(4)), Tree(2)),\n",
       " Tree(0, Tree(1, Tree(3), Tree(4)), Tree(2))]"
      ]
     },
     "execution_count": 63,
     "metadata": {},
     "output_type": "execute_result"
    }
   ],
   "source": [
    "class Tree:\n",
    "    def __init__(self, value=None, left=None, right=None):\n",
    "        self.left = left\n",
    "        self.right = right\n",
    "        self.value = value\n",
    "        \n",
    "        \n",
    "    def __iter__(self):\n",
    "        if (self.right is None) and (self.left is None):\n",
    "            yield self.value\n",
    "        else:\n",
    "            yield from self.left\n",
    "            yield from self.right\n",
    "\n",
    "    \n",
    "    def __repr__(self):\n",
    "        if (self.right is None and self.left is None):\n",
    "            return 'Tree(' + repr(self.value) + ')'\n",
    "        return 'Tree(' + repr(self.value) + ', ' + repr(self.left) + ', ' + repr(self.right) + ')'\n",
    "    \n",
    "    \n",
    "    def __str__(self, lvl = 0):\n",
    "        rep = \"\\t\" * lvl + str(self.value) + \"\\n\"\n",
    "        if(self.left is not None):\n",
    "            rep += self.left.__str__(lvl+1)\n",
    "        if(self.right is not None):\n",
    "            rep += self.right.__str__(lvl+1)\n",
    "        return rep\n",
    "    \n",
    "tree = Tree(0, Tree(1, Tree(3), Tree(4)),                             \n",
    "               Tree(2))\n",
    "\n",
    "\n",
    "[tree, tree]"
   ]
  },
  {
   "cell_type": "code",
   "execution_count": 64,
   "metadata": {},
   "outputs": [
    {
     "name": "stdout",
     "output_type": "stream",
     "text": [
      "0\n",
      "\t1\n",
      "\t\t3\n",
      "\t\t4\n",
      "\t2\n",
      "\n"
     ]
    }
   ],
   "source": [
    "print(str(tree))"
   ]
  },
  {
   "cell_type": "code",
   "execution_count": 65,
   "metadata": {},
   "outputs": [
    {
     "data": {
      "text/plain": [
       "[3, 4, 2]"
      ]
     },
     "execution_count": 65,
     "metadata": {},
     "output_type": "execute_result"
    }
   ],
   "source": [
    "list(tree)"
   ]
  },
  {
   "cell_type": "markdown",
   "metadata": {},
   "source": [
    "# Задание 4"
   ]
  },
  {
   "cell_type": "code",
   "execution_count": 66,
   "metadata": {},
   "outputs": [
    {
     "name": "stdout",
     "output_type": "stream",
     "text": [
      "4\n"
     ]
    }
   ],
   "source": [
    "def calc(ex):\n",
    "    expr = []\n",
    "    n = 0\n",
    "    while(len(ex)!=0):\n",
    "        if(ex[0].isnumeric()):\n",
    "            n = n * 10 + int(ex[0])\n",
    "        elif(ex[0] != ' '):\n",
    "            if(n!=0):\n",
    "                expr.append(n)\n",
    "            expr.append(ex[0])\n",
    "            n = 0        \n",
    "        ex = ex[1:]\n",
    "    \n",
    "    if(n != 0):\n",
    "        expr.append(n)\n",
    "    expr.append('f')\n",
    "    \n",
    "    last = 'f'\n",
    "    stop = False\n",
    "    i = 0\n",
    "    tex = ['f']\n",
    "    cal = []\n",
    "    inc = False\n",
    "    while(not stop):\n",
    "        cur = expr[i]\n",
    "        if(cur == 'f'):\n",
    "            if(last == 'f'):\n",
    "                stop = True\n",
    "            elif(last == '('):\n",
    "                stop = True\n",
    "                inc = True\n",
    "            else:\n",
    "                cal.append(tex.pop())\n",
    "                last = tex[-1]\n",
    "\n",
    "        if(cur == '+'):\n",
    "            if(last == 'f' or last == '('):\n",
    "                tex.append(cur)\n",
    "                last = cur\n",
    "                i+=1\n",
    "            else:\n",
    "                cal.append(tex.pop())\n",
    "                last = tex[-1] \n",
    "\n",
    "        if( cur == '-' ):\n",
    "            if(last == 'f' or last == '('):\n",
    "                tex.append(cur)\n",
    "                last = cur\n",
    "                i+=1\n",
    "            else:\n",
    "                cal.append(tex.pop())\n",
    "                last = tex[-1]\n",
    "\n",
    "        if(cur == '*'):\n",
    "            if(last == '*' or last == '/'):\n",
    "                cal.append(tex.pop())\n",
    "                last = tex[-1]\n",
    "            else:\n",
    "                tex.append(cur)\n",
    "                last = cur\n",
    "                i+=1\n",
    "\n",
    "        if(cur == '/'):\n",
    "            if(last == '*' or last == '/'):\n",
    "                cal.append(tex.pop())\n",
    "                last = tex[-1]\n",
    "            else:\n",
    "                tex.append(cur)\n",
    "                last = cur\n",
    "                i+=1\n",
    "\n",
    "        if(cur == '(' ):\n",
    "            tex.append(cur)\n",
    "            last = cur\n",
    "            i+=1\n",
    "\n",
    "        if(cur == ')'):\n",
    "            if(last == 'f'):\n",
    "                stop = True\n",
    "                inc = True\n",
    "            elif(last == '('):\n",
    "                i+=1\n",
    "                tex.pop()\n",
    "                last = tex[-1]\n",
    "            else:\n",
    "                cal.append(tex.pop())\n",
    "                last = tex[-1]\n",
    "\n",
    "        if(type(cur) == int):\n",
    "            cal.append(cur)\n",
    "            i+=1\n",
    "            \n",
    "    if(inc):\n",
    "        return 'Incorrect equation'\n",
    "\n",
    "    ev = []        \n",
    "    for el in cal:\n",
    "        if(type(el) == int):\n",
    "            ev.append(el)\n",
    "        elif(el == '*'):\n",
    "            ev.append(ev.pop()*ev.pop())\n",
    "        elif(el == '+'):\n",
    "            ev.append(ev.pop()+ev.pop())\n",
    "        elif(el == '/'):\n",
    "            ev.append(1/(ev.pop()/ev.pop()))\n",
    "        elif(el == '-'):\n",
    "            ev.append(-ev.pop()+ev.pop())\n",
    "    return ev[0]\n",
    "\n",
    "expr  = '2 * ( 15 - 3 * 4 )- 2'\n",
    "print(calc(expr))"
   ]
  },
  {
   "cell_type": "code",
   "execution_count": 5,
   "metadata": {},
   "outputs": [],
   "source": []
  }
 ],
 "metadata": {
  "kernelspec": {
   "display_name": "Python 3",
   "language": "python",
   "name": "python3"
  },
  "language_info": {
   "codemirror_mode": {
    "name": "ipython",
    "version": 3
   },
   "file_extension": ".py",
   "mimetype": "text/x-python",
   "name": "python",
   "nbconvert_exporter": "python",
   "pygments_lexer": "ipython3",
   "version": "3.8.3"
  }
 },
 "nbformat": 4,
 "nbformat_minor": 4
}
